{
 "cells": [
  {
   "cell_type": "code",
   "execution_count": 6,
   "metadata": {},
   "outputs": [],
   "source": [
    "\n",
    "import logging\n",
    "from collections import namedtuple\n",
    "import random\n",
    "from copy import deepcopy\n",
    "from itertools import accumulate\n",
    "from operator import xor\n",
    "\n",
    "\n",
    "Nimply = namedtuple(\"Nimply\", \"row, num_objects\")\n",
    "\n",
    "class Nim:\n",
    "    def __init__(self, num_rows: int, k: int = None):\n",
    "        self._rows = [i * 2 + 1 for i in range(num_rows)]\n",
    "        #self._rows = [0,1,3]\n",
    "        self._k = k\n",
    "\n",
    "    def __bool__(self):\n",
    "        return sum(self._rows) > 0\n",
    "\n",
    "    def __str__(self):\n",
    "        return \"<\" + \" \".join(str(_) for _ in self._rows) + \">\"\n",
    "\n",
    "    @property\n",
    "    def rows(self) -> tuple:\n",
    "        return tuple(self._rows)\n",
    "\n",
    "    @property\n",
    "    def k(self):\n",
    "        return self._k\n",
    "    \n",
    "    #apply the chosen move by removing num_objects from the row\n",
    "    def nimming(self, ply: Nimply):\n",
    "        row, num_objects = ply\n",
    "        assert self._rows[row] >= num_objects\n",
    "        assert self._k is None or num_objects <= self._k\n",
    "        self._rows[row] -= num_objects"
   ]
  },
  {
   "cell_type": "code",
   "execution_count": 7,
   "metadata": {},
   "outputs": [],
   "source": [
    "def dumb_PCI(state: Nim):\n",
    "    \"\"\"Pick always the minimum(maximum) possible number of the lowest row\"\"\"\n",
    "    possible_moves = [(r, o) for r, c in enumerate(state.rows) for o in range(1, c + 1)]\n",
    "    return Nimply(*max(possible_moves, key=lambda m: (-m[0], -m[1])))\n",
    "\n",
    "def pure_random(state: Nim):\n",
    "    row = random.choice([r for r, c in enumerate(state.rows) if c > 0])\n",
    "    num_objects = random.randint(1, state.rows[row])\n",
    "    return Nimply(row, num_objects)\n",
    "\n",
    "\"\"\"optimal strategy\"\"\"\n",
    "def nim_sum(state: Nim):\n",
    "    *_, result = accumulate(state.rows, xor)\n",
    "    return result\n",
    "\n",
    "def cook_status(state: Nim):\n",
    "    cooked = dict()\n",
    "    cooked[\"possible_moves\"] = [\n",
    "        (r, o) for r, c in enumerate(state.rows) for o in range(1, c + 1) if state.k is None or o <= state.k\n",
    "    ]\n",
    "    cooked[\"active_rows_number\"] = sum(o > 0 for o in state.rows)\n",
    "    cooked[\"shortest_row\"] = min((x for x in enumerate(state.rows) if x[1] > 0), key=lambda y: y[1])[0]\n",
    "    cooked[\"longest_row\"] = max((x for x in enumerate(state.rows)), key=lambda y: y[1])[0]\n",
    "    cooked[\"nim_sum\"] = nim_sum(state)\n",
    "\n",
    "    brute_force = list()\n",
    "    for m in cooked[\"possible_moves\"]:\n",
    "        tmp = deepcopy(state)\n",
    "        tmp.nimming(m)\n",
    "        brute_force.append((m, nim_sum(tmp)))\n",
    "    cooked[\"brute_force\"] = brute_force\n",
    "\n",
    "    return cooked\n",
    "\n",
    "def optimal_startegy(state: Nim):\n",
    "    data = cook_status(state)\n",
    "    return next((bf for bf in data[\"brute_force\"] if bf[1] == 0), random.choice(data[\"brute_force\"]))[0]"
   ]
  },
  {
   "cell_type": "code",
   "execution_count": 8,
   "metadata": {},
   "outputs": [],
   "source": [
    "def eval_terminal(state: Nim):\n",
    "    if not state:\n",
    "        return -1\n",
    "    else:\n",
    "        return 0"
   ]
  },
  {
   "cell_type": "code",
   "execution_count": 9,
   "metadata": {},
   "outputs": [],
   "source": [
    "def minmax(state: Nim,step: int):\n",
    "    val = eval_terminal(state)\n",
    "    possible_moves = [\n",
    "        (r, o) for r, c in enumerate(state.rows) for o in range(1, c + 1) if state.k is None or o <= state.k\n",
    "    ]\n",
    "\n",
    "    #print(f\"Mosse possibili {possible_moves}\")\n",
    "    \n",
    "    step +=1\n",
    "\n",
    "    if val != 0 or not possible_moves:\n",
    "        return None, val\n",
    "    evaluations = list()\n",
    "\n",
    "    for ply in possible_moves:\n",
    "        \n",
    "        #print(f\"Mossa corrente {ply}, giocatore {step%2}\")\n",
    "        tmp = deepcopy(state)\n",
    "        tmp.nimming(ply)\n",
    "        #print(f\"stato attuale: {tmp}\")\n",
    "        _, val = minmax(tmp, step)\n",
    "        evaluations.append((ply, -val))\n",
    "        \n",
    "        if -val == 1:\n",
    "            break;\n",
    "\n",
    "    \n",
    "\n",
    "    #print(f\"evaluation list: {evaluations}\") \n",
    "    #print(f\"Mossa presa effettivamente {max(evaluations, key=lambda k: k[1])}\")   \n",
    "    return max(evaluations, key=lambda k: k[1])"
   ]
  },
  {
   "cell_type": "code",
   "execution_count": 13,
   "metadata": {},
   "outputs": [
    {
     "name": "stderr",
     "output_type": "stream",
     "text": [
      "DEBUG:root:status: Initial board  -> <1 3 5>\n",
      "DEBUG:root:status: After player 0 -> <1 3 2>\n",
      "DEBUG:root:status: After player 1 -> <1 3 0>\n",
      "DEBUG:root:status: After player 0 -> <1 1 0>\n",
      "DEBUG:root:status: After player 1 -> <1 0 0>\n",
      "DEBUG:root:status: After player 0 -> <0 0 0>\n",
      "INFO:root:status: Player 0 won!\n"
     ]
    },
    {
     "name": "stdout",
     "output_type": "stream",
     "text": [
      "(2, 3)\n",
      "(2, 2)\n",
      "(1, 2)\n",
      "(1, 1)\n",
      "(0, 1)\n"
     ]
    }
   ],
   "source": [
    "logging.getLogger().setLevel(logging.DEBUG)\n",
    "\n",
    "nim = Nim(3)\n",
    "\n",
    "\n",
    "    \n",
    "logging.debug(f\"status: Initial board  -> {nim}\")\n",
    "player = 0\n",
    "while nim:\n",
    "    if player == 0:\n",
    "        ply, _ = minmax(nim,0)\n",
    "    else:\n",
    "        ply = optimal_startegy(nim)\n",
    "    \n",
    "    print(ply)\n",
    "    nim.nimming(ply)\n",
    "    logging.debug(f\"status: After player {player} -> {nim}\")\n",
    "    player = 1 - player\n",
    "winner = 1 - player\n",
    "logging.info(f\"status: Player {winner} won!\")"
   ]
  }
 ],
 "metadata": {
  "kernelspec": {
   "display_name": "Python 3.8.5 ('base')",
   "language": "python",
   "name": "python3"
  },
  "language_info": {
   "codemirror_mode": {
    "name": "ipython",
    "version": 3
   },
   "file_extension": ".py",
   "mimetype": "text/x-python",
   "name": "python",
   "nbconvert_exporter": "python",
   "pygments_lexer": "ipython3",
   "version": "3.8.5"
  },
  "orig_nbformat": 4,
  "vscode": {
   "interpreter": {
    "hash": "49cb93f377a7abe7414b7b0f21fb3017538004a126cf690fb524202736b7fb92"
   }
  }
 },
 "nbformat": 4,
 "nbformat_minor": 2
}
